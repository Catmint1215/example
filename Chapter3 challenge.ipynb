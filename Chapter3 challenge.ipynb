{
 "cells": [
  {
   "cell_type": "code",
   "execution_count": 14,
   "metadata": {},
   "outputs": [
    {
     "name": "stdout",
     "output_type": "stream",
     "text": [
      "Student ID:/18421111 Student ID:18421112 Student ID:18421113 Student ID18421114 Student ID:18421115 Assigned in case1 - build a calculator to evaluate your business model\n",
      "Student ID:18421116 Student ID:18421117 Student ID:18421118 Student ID18421119 Student ID:18421120 Assigned in case2 - build a automatic earthquake robot to broadcast the new earthquake\n",
      "Student ID:18421121 Student ID:18421122 Student ID:18421123 Student ID18421124 Student ID:18421125 Assigned in case3 - evaluate social media performance of a luxury brand\n",
      "Student ID:18421126 Student ID:18421127 Student ID:18421128 Student ID18421129 Student ID:18421130 Assigned in case4 - study movie blockbuster 'Dying to Survive'\n",
      "Student ID:18421131 Student ID:18421132 Student ID:18421133 Student ID18421134 Student ID:18421135 Assigned in case5 - invest your money like the Internet giant, Tencent\n",
      "Student ID:18421136 Student ID:18421137 Student ID:18421138 Student ID18421139 Student ID:18421140 Assigned in case6 - where are the 200,000 inferior vaccines flowing?\n",
      "Student ID:18421141 Student ID:18421142 Student ID:18421143 Student ID18421144 Student ID:18421145 Assigned in case7 - study classics, who control the discourse power in 'Dream of the Red Chamber'?\n",
      "Student ID:18421146 Student ID:18421147 Student ID:18421148 Student ID18421149 Student ID:18421150 Assigned in case8 - research about Didi-driver crimes in China\n",
      "Student ID:18421151 Student ID:18421152 Student ID:18421153 Student ID18421154 Student ID:18421155 Assigned in case9 - 'Me too' analysis\n",
      "Student ID:18421156 Student ID:18421157 Student ID:18421158 Student ID18421159 Student ID:18421160 Assigned in case10 - What is hip-hop in china?\n"
     ]
    }
   ],
   "source": [
    "import random\n",
    "\n",
    "s=[18421111,\n",
    "18421112,\n",
    "18421113,\n",
    "18421114,\n",
    "18421115,\n",
    "18421116,\n",
    "18421117,\n",
    "18421118,\n",
    "18421119,\n",
    "18421120,\n",
    "18421121,\n",
    "18421122,\n",
    "18421123,\n",
    "18421124,\n",
    "18421125,\n",
    "18421126,\n",
    "18421127,\n",
    "18421128,\n",
    "18421129,\n",
    "18421130,\n",
    "18421131,\n",
    "18421132,\n",
    "18421133,\n",
    "18421134,\n",
    "18421135,\n",
    "18421136,\n",
    "18421137,\n",
    "18421138,\n",
    "18421139,\n",
    "18421140,\n",
    "18421141,\n",
    "18421142,\n",
    "18421143,\n",
    "18421144,\n",
    "18421145,\n",
    "18421146,\n",
    "18421147,\n",
    "18421148,\n",
    "18421149,\n",
    "18421150,\n",
    "18421151,\n",
    "18421152,\n",
    "18421153,\n",
    "18421154,\n",
    "18421155,\n",
    "18421156,\n",
    "18421157,\n",
    "18421158,\n",
    "18421159,\n",
    "18421160]\n",
    "\n",
    "c =[\"case1 - build a calculator to evaluate your business model\",\n",
    "\"case2 - build a automatic earthquake robot to broadcast the new earthquake\",\n",
    "\"case3 - evaluate social media performance of a luxury brand\",\n",
    "\"case4 - study movie blockbuster 'Dying to Survive'\",\n",
    "\"case5 - invest your money like the Internet giant, Tencent\",\n",
    "\"case6 - where are the 200,000 inferior vaccines flowing?\",\n",
    "\"case7 - study classics, who control the discourse power in 'Dream of the Red Chamber'?\",\n",
    "\"case8 - research about Didi-driver crimes in China\",\n",
    "\"case9 - 'Me too' analysis\",\n",
    "\"case10 - What is hip-hop in china?\"]\n",
    "\n",
    "\n",
    "print(\"Student ID:\"+str(s[0])+\" Student ID:\"+str(s[1])+\" Student ID:\"+str(s[2])+\" Student ID\"+str(s[3])+\" Student ID:\"+str(s[4])+\" Assigned in \"+c[0])\n",
    "print(\"Student ID:\"+str(s[5])+\" Student ID:\"+str(s[6])+\" Student ID:\"+str(s[7])+\" Student ID\"+str(s[8])+\" Student ID:\"+str(s[9])+\" Assigned in \"+c[1])\n",
    "print(\"Student ID:\"+str(s[10])+\" Student ID:\"+str(s[11])+\" Student ID:\"+str(s[12])+\" Student ID\"+str(s[13])+\" Student ID:\"+str(s[14])+\" Assigned in \"+c[2])\n",
    "print(\"Student ID:\"+str(s[15])+\" Student ID:\"+str(s[16])+\" Student ID:\"+str(s[17])+\" Student ID\"+str(s[18])+\" Student ID:\"+str(s[19])+\" Assigned in \"+c[3])\n",
    "print(\"Student ID:\"+str(s[20])+\" Student ID:\"+str(s[21])+\" Student ID:\"+str(s[22])+\" Student ID\"+str(s[23])+\" Student ID:\"+str(s[24])+\" Assigned in \"+c[4])\n",
    "print(\"Student ID:\"+str(s[25])+\" Student ID:\"+str(s[26])+\" Student ID:\"+str(s[27])+\" Student ID\"+str(s[28])+\" Student ID:\"+str(s[29])+\" Assigned in \"+c[5])\n",
    "print(\"Student ID:\"+str(s[30])+\" Student ID:\"+str(s[31])+\" Student ID:\"+str(s[32])+\" Student ID\"+str(s[33])+\" Student ID:\"+str(s[34])+\" Assigned in \"+c[6])\n",
    "print(\"Student ID:\"+str(s[35])+\" Student ID:\"+str(s[36])+\" Student ID:\"+str(s[37])+\" Student ID\"+str(s[38])+\" Student ID:\"+str(s[39])+\" Assigned in \"+c[7])\n",
    "print(\"Student ID:\"+str(s[40])+\" Student ID:\"+str(s[41])+\" Student ID:\"+str(s[42])+\" Student ID\"+str(s[43])+\" Student ID:\"+str(s[44])+\" Assigned in \"+c[8])\n",
    "print(\"Student ID:\"+str(s[45])+\" Student ID:\"+str(s[46])+\" Student ID:\"+str(s[47])+\" Student ID\"+str(s[48])+\" Student ID:\"+str(s[49])+\" Assigned in \"+c[9])"
   ]
  },
  {
   "cell_type": "markdown",
   "metadata": {},
   "source": [
    "Print 部分应该可以用chapter 2 中的def hi（name）部分的知识简化，我会再对我的代码进行优化的，这个作为我暂时提交的作业~"
   ]
  },
  {
   "cell_type": "code",
   "execution_count": null,
   "metadata": {},
   "outputs": [],
   "source": []
  }
 ],
 "metadata": {
  "kernelspec": {
   "display_name": "Python 3",
   "language": "python",
   "name": "python3"
  },
  "language_info": {
   "codemirror_mode": {
    "name": "ipython",
    "version": 3
   },
   "file_extension": ".py",
   "mimetype": "text/x-python",
   "name": "python",
   "nbconvert_exporter": "python",
   "pygments_lexer": "ipython3",
   "version": "3.6.5"
  }
 },
 "nbformat": 4,
 "nbformat_minor": 2
}
